{
  "cells": [
    {
      "cell_type": "raw",
      "metadata": {},
      "source": [
        "---\n",
        "title: \"Assignment 1\"\n",
        "---"
      ],
      "id": "daf38b2a"
    },
    {
      "cell_type": "markdown",
      "metadata": {},
      "source": [
        "# Assignment 1\n",
        "\n",
        "My first assignment has three parts.\n",
        "\n",
        "## (a)\n",
        "\n",
        "Here is the video I chose for Part A. [R vs Python \\| Which is Better for Data Analysis?](https://www.youtube.com/watch?v=1gdKC5O0Pwc) The video mainly focuses on the comparison between R and Python.\n",
        "\n",
        "#### ***Brief Summary:***\n",
        "\n",
        "::: {align=\"justify\"}\n",
        "In this video, the presenter discusses whether Python or R is better for data analysis. Python is described as a versatile programming language, while R was initially made for statistics. The video talks about popular packages in both languages and mentions that Python is good for web applications and easy to learn, while R is better for advanced stats. The presenter suggests trying both to see which one works best for you, promoting an open-minded approach to this debate.\n",
        ":::\n",
        "\n",
        "#### ***Highlights***:\n",
        "\n",
        "-   Python is a general-purpose programming language, while R was initially developed for statistical analysis.\n",
        "-   Popular packages in R include dplyr, ggplot2, and shiny, while Python offers libraries like pandas, matplotlib, and seaborn.\n",
        "-   Python is more versatile and suitable for web applications, but R excels in statistical analysis.\n",
        "-   Python is easier to learn, while R offers more advanced features.\n",
        "\n",
        "## **(b)**\n",
        "\n",
        "## **(c)**\n",
        "\n",
        "```{na_example}\n",
        "install.packages(\"dslabs\")\n",
        "library(dslabs)\n",
        "data(\"na_example\")\n",
        "na_example\n",
        "sum(is.na(na_example))\n",
        "no_na_example <- ifelse(is.na(na_example), 0, na_example)\n",
        "no_na_example\n",
        "sum(is.na(no_na_example))\n",
        "```"
      ],
      "id": "e34b3245"
    }
  ],
  "metadata": {
    "kernelspec": {
      "display_name": "Python 3",
      "language": "python",
      "name": "python3"
    }
  },
  "nbformat": 4,
  "nbformat_minor": 5
}