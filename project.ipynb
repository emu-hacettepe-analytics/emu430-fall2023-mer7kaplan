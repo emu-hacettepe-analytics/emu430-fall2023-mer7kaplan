{
  "cells": [
    {
      "cell_type": "raw",
      "metadata": {},
      "source": [
        "---\n",
        "title: \"Our Course Project\"\n",
        "sidebar: false \n",
        "---"
      ],
      "id": "f1d16dc1"
    },
    {
      "cell_type": "markdown",
      "metadata": {},
      "source": [
        "I'm honored to be a member of the Data Cipher project team.\n",
        "\n",
        "Below, you'll find a brief summary of our project. To access a detailed project description, please go to [Data Cipher's Project Lab](https://emu-hacettepe-analytics.github.io/emu430-fall2023-team-data_ciphers/).\n",
        "\n",
        "\n",
        "```{css, echo = FALSE}\n",
        ".justify {\n",
        "  text-align: justify !important\n",
        "}\n",
        "```\n",
        "\n",
        "\n",
        "**Summary**\n",
        "\n",
        "::: justify\n",
        "The Turkey Health Survey is a research project that aims to understand overall health and collect data on key health indicators to measure the development of the country. The study provides international comparisons and insights into national health needs. We selected the 'Turkey Health Survey' data set because it covers a wide range of health-related information in Turkey, including health habits, healthcare utilization, prevalent diseases, and demographic details. As a team, we aim to analyze health patterns across different gender and age groups, identify variations in health behaviors and disease occurrence, and understand health service utilization. Our ultimate goal is to provide valuable insights for health policies and activities.\n",
        ":::"
      ],
      "id": "33ab2ae0"
    }
  ],
  "metadata": {
    "kernelspec": {
      "display_name": "Python 3",
      "language": "python",
      "name": "python3"
    }
  },
  "nbformat": 4,
  "nbformat_minor": 5
}